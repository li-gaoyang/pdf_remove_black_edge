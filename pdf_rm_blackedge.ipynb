{
 "cells": [
  {
   "cell_type": "code",
   "execution_count": 1,
   "metadata": {},
   "outputs": [],
   "source": [
    "# %%\n",
    "import datetime\n",
    "import os\n",
    "\n",
    "import fitz  # fitz就是pip install PyMuPDF\n",
    "import numpy as np\n",
    "\n",
    "import cv2"
   ]
  },
  {
   "cell_type": "code",
   "execution_count": 3,
   "metadata": {},
   "outputs": [],
   "source": [
    "\n",
    "\n",
    "# %%\n",
    "\n",
    "def pyMuPDF_fitz(pdfPath, imagePath):\n",
    "    \n",
    "    print(\"imagePath=\" + imagePath)\n",
    "    pdfDoc = fitz.open(pdfPath)\n",
    "    for pg in range(pdfDoc.page_count):\n",
    "        page = pdfDoc[pg]\n",
    "    \n",
    "        # 每个尺寸的缩放系数为1.3，这将为我们生成分辨率提高2.6的图像。\n",
    "        # 此处若是不做设置，默认图片大小为：792X612, dpi=96\n",
    "        zoom_x =4  # (1.33333333-->1056x816)   (2-->1584x1224)\n",
    "        zoom_y =4\n",
    "        mat = fitz.Matrix(zoom_x, zoom_y)\n",
    "        pm = page.get_pixmap(matrix=mat, alpha=False)\n",
    "\n",
    "        if not os.path.exists(imagePath):  # 判断存放图片的文件夹是否存在\n",
    "            os.makedirs(imagePath)  # 若图片文件夹不存在就创建\n",
    "\n",
    "         #这里获取到数据流，看了下源码，下面可以直接用getPNGdata()\n",
    "       \n",
    "        # 解码为 np.uint8\n",
    "        a=pm._writeIMG((imagePath + '/' + 'images_%s.png' % pg),1)\n",
    "\n",
    "       \n",
    "        # 保存为图片测试看看\n",
    "        #cv2.imencode('.png', image_array)[1].tofile(imagePath + '/' + 'images_%s.png' % pg)\n",
    "        \n",
    "        image_array2=cv2.imdecode(np.fromfile(imagePath + '/' + 'images_%s.png' % pg,dtype=np.uint8),-1)\n",
    "        image_array2\n",
    "        h=image_array2.shape[0]\n",
    "        w=image_array2.shape[1]\n",
    "        for _w in range(w):\n",
    "            for _h in range(h):\n",
    "                \n",
    "\n",
    "                if _w>w-50:\n",
    "                    image_array2[_h][_w]=[255,255,255]\n",
    "             \n",
    "                if _h<50:\n",
    "                    image_array2[_h][_w]=[255,255,255]\n",
    "\n",
    "        cv2.imencode('.jpg', image_array2)[1].tofile(imagePath + '/' + 'images_%s.png' % pg)\n",
    "    \n",
    "        a=1\n",
    "\n",
    "\n",
    "\n"
   ]
  },
  {
   "cell_type": "code",
   "execution_count": 4,
   "metadata": {},
   "outputs": [],
   "source": [
    "# 1、PDF地址\n",
    "name=\"201873026-李杨-博士研究生中期考核表.pdf\"\n",
    "pdfPath = './pdf/'+name\n",
    "# 2、需要储存图片的目录\n",
    "imagePath = './'+name\n"
   ]
  },
  {
   "cell_type": "code",
   "execution_count": 5,
   "metadata": {},
   "outputs": [
    {
     "name": "stdout",
     "output_type": "stream",
     "text": [
      "imagePath=./201673023-沈禄银-博士研究生开题报告登记表_沈禄银.pdf\n"
     ]
    }
   ],
   "source": [
    "pyMuPDF_fitz(pdfPath, imagePath)"
   ]
  },
  {
   "cell_type": "code",
   "execution_count": 6,
   "metadata": {},
   "outputs": [
    {
     "name": "stdout",
     "output_type": "stream",
     "text": [
      "此程序把文件夹内所有图片转换为一个pdf文档（图片需按顺序命名）！\n",
      "转换成功！pdf文件在当前程序目录下！\n"
     ]
    }
   ],
   "source": [
    "\n",
    "\n",
    "from PIL import Image\n",
    "import os\n",
    "\n",
    "print('此程序把文件夹内所有图片转换为一个pdf文档（图片需按顺序命名）！')\n",
    "path = imagePath\n",
    " \n",
    "img_open_list = []     \n",
    "                            # 创建打开后的图片列表\n",
    "for root, dirs, files in os.walk(path):\n",
    "\n",
    "    files=sorted(files, key=lambda x: (x[0], float(x[7:len(x)-4])))\n",
    "    for i in files:\n",
    "        \n",
    "        file = os.path.join(root, i)               # 遍历所有图片，带绝对路径\n",
    "        img_open = Image.open(file)                # 打开所有图片\n",
    "        if img_open.mode != 'RGB':\n",
    "            img_open = img_open.convert('RGB')     # 转换图像模式\n",
    "        img_open_list.append(img_open)             # 把打开的图片放入列表\n",
    "pdf_name = name                          # pdf文件名\n",
    "img_1 = img_open_list[0]                           # 打开的第一张图片\n",
    "# 把img1保存为PDF文件,将另外的图片添加进来，列表需删除第一张图片，不然会重复\n",
    "img_open_list = img_open_list[1:]\n",
    "img_1.save(imagePath+'/'+name, \"PDF\", resolution=100.0, save_all=True, append_images=img_open_list,dpi= ( 500.0, 500.0 ))\n",
    "print('转换成功！pdf文件在当前程序目录下！')\n"
   ]
  }
 ],
 "metadata": {
  "kernelspec": {
   "display_name": "pytorch01",
   "language": "python",
   "name": "python3"
  },
  "language_info": {
   "codemirror_mode": {
    "name": "ipython",
    "version": 3
   },
   "file_extension": ".py",
   "mimetype": "text/x-python",
   "name": "python",
   "nbconvert_exporter": "python",
   "pygments_lexer": "ipython3",
   "version": "3.8.0"
  },
  "orig_nbformat": 4,
  "vscode": {
   "interpreter": {
    "hash": "d8e5afcfc9992f2e372c3740bec5dcd2f3c885962b4b8f9c25e479b2928106bb"
   }
  }
 },
 "nbformat": 4,
 "nbformat_minor": 2
}
